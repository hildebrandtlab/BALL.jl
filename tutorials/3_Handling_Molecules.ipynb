{
  "cells": [
    {
      "cell_type": "markdown",
      "metadata": {},
      "source": [
        "# All on Handling molecules"
      ],
      "id": "9f360086-b753-4c67-b105-faeb5714fcb7"
    },
    {
      "cell_type": "code",
      "execution_count": 1,
      "metadata": {},
      "outputs": [],
      "source": [
        "using BiochemicalAlgorithms"
      ],
      "id": "1fa4453b"
    },
    {
      "cell_type": "markdown",
      "metadata": {},
      "source": [
        "# How can I create a simple molecule?"
      ],
      "id": "88fde93f-b3fc-488a-af0d-3138af1fe059"
    },
    {
      "cell_type": "code",
      "execution_count": 2,
      "metadata": {},
      "outputs": [
        {
          "output_type": "stream",
          "name": "stdout",
          "text": [
            "3\n",
            "2\n",
            "Atom{Float32}: (idx = 2, number = 1, element = BiochemicalAlgorithms.Elements.O, name = \"\", atom_type = \"\", r = Float32[0.0, 0.0, 0.0], v = Float32[0.0, 0.0, 0.0], F = Float32[0.0, 0.0, 0.0], formal_charge = 0, charge = 0.0f0, radius = 0.0f0)\n",
            "Atom{Float32}: (idx = 3, number = 2, element = BiochemicalAlgorithms.Elements.H, name = \"\", atom_type = \"\", r = Float32[1.0, 0.0, 0.0], v = Float32[0.0, 0.0, 0.0], F = Float32[0.0, 0.0, 0.0], formal_charge = 0, charge = 0.0f0, radius = 0.0f0)\n",
            "Atom{Float32}: (idx = 4, number = 3, element = BiochemicalAlgorithms.Elements.H, name = \"\", atom_type = \"\", r = Float32[-0.25881904, 0.9659258, 0.0], v = Float32[0.0, 0.0, 0.0], F = Float32[0.0, 0.0, 0.0], formal_charge = 0, charge = 0.0f0, radius = 0.0f0)"
          ]
        },
        {
          "output_type": "display_data",
          "metadata": {},
          "data": {
            "text/plain": [
              "3-element Vector{Nothing}:\n",
              " nothing\n",
              " nothing\n",
              " nothing"
            ]
          }
        }
      ],
      "source": [
        "# create a system first\n",
        "\n",
        "sys = System{Float32}() # this system will be of single precision, i.e., atom positions, velocities... \n",
        "\n",
        "h2o = Molecule(sys)\n",
        "# create system atoms\n",
        "o1 = Atom(h2o, 1, Elements.O)\n",
        "h1 = Atom(h2o, 2, Elements.H)\n",
        "h2 = Atom(h2o, 3, Elements.H)\n",
        "\n",
        "o1.idx\n",
        "# set positions of the atoms\n",
        "# o1.r = Vector3{Float}(0, 0, 0)  <-- this is the default value!\n",
        "h1.r = Vector3{Float32}(1, 0, 0)\n",
        "h2.r = Vector3{Float32}(cos(105 * π / 180), sin(105 * π / 180), 0)\n",
        "\n",
        "# add bonds\n",
        "Bond(h2o, o1.idx, h1.idx, BondOrder.Single)\n",
        "Bond(h2o, o1.idx, h2.idx, BondOrder.Single)\n",
        "# \n",
        "\n",
        "println(natoms(h2o))\n",
        "println(nbonds(h2o))\n",
        "println.(atom for atom in atoms(h2o))"
      ],
      "id": "f7bdbd89"
    },
    {
      "cell_type": "markdown",
      "metadata": {},
      "source": [
        "# How can I determine the element type of an atom (i.e., C,N,…)?\n",
        "\n",
        "The element of an atom is represented by \\[`elements.jl`\\]@ref"
      ],
      "id": "22356a4a-f1e9-4f64-a3da-0efeb3c72b69"
    },
    {
      "cell_type": "code",
      "execution_count": 3,
      "metadata": {},
      "outputs": [
        {
          "output_type": "stream",
          "name": "stdout",
          "text": [
            "This is a carbon atom!\n",
            "This is a carbon atom!\n",
            "This is a carbon atom!\n",
            "This is a carbon atom!\n",
            "This is a carbon atom!\n",
            "This is a carbon atom!"
          ]
        }
      ],
      "source": [
        "s = load_pdb(ball_data_path(\"../test/data/AlaAla.pdb\"))\n",
        "\n",
        "for atom in atoms(s)\n",
        "    if atom.element == Elements.C\n",
        "        println(\"This is a carbon atom!\")\n",
        "    end\n",
        "end"
      ],
      "id": "4dfbad8e"
    },
    {
      "cell_type": "markdown",
      "metadata": {},
      "source": [
        "# How can I identify backbone atoms?"
      ],
      "id": "41083c3f-1ee3-42f4-b219-f3a542b11822"
    },
    {
      "cell_type": "code",
      "execution_count": 4,
      "metadata": {},
      "outputs": [
        {
          "output_type": "stream",
          "name": "stdout",
          "text": [
            "N\n",
            "This is a backbone atom!\n",
            "C\n",
            "C\n",
            "This is a backbone atom!\n",
            "O\n",
            "This is a backbone atom!\n",
            "H\n",
            "H\n",
            "H\n",
            "H\n",
            "H\n",
            "H\n",
            "C\n",
            "H\n",
            "This is a backbone atom!\n",
            "N\n",
            "This is a backbone atom!\n",
            "C\n",
            "C\n",
            "This is a backbone atom!\n",
            "H\n",
            "H\n",
            "H\n",
            "H\n",
            "C\n",
            "H\n",
            "This is a backbone atom!\n",
            "O\n",
            "This is a backbone atom!\n",
            "O"
          ]
        }
      ],
      "source": [
        "s = load_pdb(ball_data_path(\"../test/data/AlaAla.pdb\"))\n",
        "\n",
        "for atom in atoms(s)\n",
        "    println(atom.element)\n",
        "    if atom.name in [\"C\", \"O\", \"N\", \"HA\"]\n",
        "        println(\"This is a backbone atom!\")\n",
        "    end\n",
        "end"
      ],
      "id": "cda3f78a"
    },
    {
      "cell_type": "markdown",
      "metadata": {},
      "source": [
        "# How can I create a peptide from its amino acid sequence?\n",
        "\n",
        "# How can I determine the protein’s amino acids sequence in one or three-letter code?\n",
        "\n",
        "# How can I get the one-letter code out of a pdb file?\n",
        "\n",
        "s = load_pdb(ball_data_path(“../test/data/AlaAla.pdb”)) for chain in\n",
        "chains(sys) for res in residues(sys) if res."
      ],
      "id": "48d69dfc-1c6b-4843-b866-403dfe43e173"
    }
  ],
  "nbformat": 4,
  "nbformat_minor": 5,
  "metadata": {
    "kernelspec": {
      "name": "julia-1.10",
      "display_name": "Julia 1.10.3",
      "language": "julia"
    },
    "language_info": {
      "name": "julia",
      "file_extension": ".jl",
      "mimetype": "application/julia",
      "version": "1.10.3"
    }
  }
}