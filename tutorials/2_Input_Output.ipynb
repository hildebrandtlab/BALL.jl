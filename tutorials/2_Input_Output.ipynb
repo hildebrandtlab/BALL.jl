{
  "cells": [
    {
      "cell_type": "markdown",
      "metadata": {},
      "source": [
        "# All on Input and Output\n",
        "\n",
        "BiochemicalAlgorithms.jl supports the reading and writing of several\n",
        "common structural data formats.\n",
        "\n",
        "## Protein Data Bank Format (PDB)\n",
        "\n",
        "The most common format ist the PDB. Have a look at [Learning about PDB\n",
        "data](https://pdb101.rcsb.org/learn/guide-to-understanding-pdb-data/introduction)\n",
        "if you want to refresh your knowledge about this format. For a deeper\n",
        "understanding you can also read [PDB format\n",
        "specifications](https://mmcif.wwpdb.org/pdbx-mmcif-home-page.html)."
      ],
      "id": "997f2250-7fc5-458f-b4a8-f9618bdbc11f"
    },
    {
      "cell_type": "code",
      "execution_count": 1,
      "metadata": {},
      "outputs": [],
      "source": [
        "using BiochemicalAlgorithms"
      ],
      "id": "ad7c552f"
    },
    {
      "cell_type": "code",
      "execution_count": 2,
      "metadata": {},
      "outputs": [
        {
          "output_type": "stream",
          "name": "stderr",
          "text": [
            "[ Info: reconstruct_fragments!(): added 0 atoms.\n",
            "[ Info: build_bonds!(): built 22 bonds"
          ]
        }
      ],
      "source": [
        "# Read PDB file from the BiochemicalAlgorithms.jl repository\n",
        "pdb_sys = load_pdb(ball_data_path(\"../test/data/AlaAla.pdb\"))\n",
        "\n",
        "for atom in atoms(pdb_sys)\n",
        "    if atom.element == Elements.S\n",
        "        print(atom.number)\n",
        "    end\n",
        "end\n",
        "\n",
        "fdb = FragmentDB()\n",
        "\n",
        "normalize_names!(pdb_sys,fdb)\n",
        "reconstruct_fragments!(pdb_sys, fdb)\n",
        "build_bonds!(pdb_sys, fdb)\n",
        "write_pdb(ball_data_path(\"../test/data/Ala_out.pdb\"), pdb_sys)"
      ],
      "id": "fb8ef1fc"
    },
    {
      "cell_type": "markdown",
      "metadata": {},
      "source": [
        "## MMCIF\n",
        "\n",
        "We can also read and write mmcif files:\n",
        "\n",
        "In addition to PDB, the [pubchem data\n",
        "base](https://pubchem.ncbi.nlm.nih.gov/) plays an important role as a\n",
        "source of structural data. Pubchem allows to retrieve data in JSON which\n",
        "is read by BiochemicalAlgorithms.jl as shown below:"
      ],
      "id": "0abe4460-12c4-42cc-9ead-43120b53782c"
    },
    {
      "cell_type": "code",
      "execution_count": 3,
      "metadata": {},
      "outputs": [
        {
          "output_type": "stream",
          "name": "stderr",
          "text": [
            "[ Info: reconstruct_fragments!(): added 0 atoms.\n",
            "[ Info: build_bonds!(): built 0 bonds"
          ]
        }
      ],
      "source": [
        "pubchem_sys = load_pubchem_json(ball_data_path(\"../test/data/aspirin_pug.json\"))\n",
        "\n",
        "fdb = FragmentDB()\n",
        "normalize_names!(pdb_sys,fdb)\n",
        "reconstruct_fragments!(pdb_sys, fdb)\n",
        "build_bonds!(pdb_sys, fdb)\n",
        "\n",
        "for atom in atoms(pdb_sys)\n",
        "    if atom.element == Elements.S\n",
        "        print(atom.number)\n",
        "    end\n",
        "end"
      ],
      "id": "ab88b016"
    },
    {
      "cell_type": "markdown",
      "metadata": {},
      "source": [
        "## SD file"
      ],
      "id": "abdd5c73-dcbd-49ae-87fb-022a6472ce2a"
    },
    {
      "cell_type": "code",
      "execution_count": 4,
      "metadata": {},
      "outputs": [
        {
          "output_type": "stream",
          "name": "stderr",
          "text": [
            "[ Info: reconstruct_fragments!(): added 0 atoms.\n",
            "[ Info: build_bonds!(): built 0 bonds\n",
            "┌ Warning: write_sdfile: writer only supports 2D data; projecting atoms onto xy-plane...\n",
            "└ @ BiochemicalAlgorithms C:\\local\\BiochemicalAlgorithms.jl\\src\\fileformats\\sdfile.jl:23\n",
            "[ Info: 9 records exported."
          ]
        }
      ],
      "source": [
        "sd_sys = load_sdfile(ball_data_path(\"../test/data/rings_test.sdf\"))\n",
        "\n",
        "fdb = FragmentDB()\n",
        "normalize_names!(sd_sys,fdb)\n",
        "reconstruct_fragments!(sd_sys, fdb)\n",
        "build_bonds!(sd_sys, fdb)\n",
        "\n",
        "for atom in atoms(sd_sys)\n",
        "    if atom.element == Elements.S\n",
        "        print(atom.number)\n",
        "    end\n",
        "end\n",
        "\n",
        "write_sdfile(ball_data_path(\"../test/data/rings_test_out.sdf\"), sd_sys)"
      ],
      "id": "4d530deb"
    }
  ],
  "nbformat": 4,
  "nbformat_minor": 5,
  "metadata": {
    "kernelspec": {
      "name": "julia-1.10",
      "display_name": "Julia 1.10.3",
      "language": "julia"
    },
    "language_info": {
      "name": "julia",
      "file_extension": ".jl",
      "mimetype": "application/julia",
      "version": "1.10.3"
    }
  }
}