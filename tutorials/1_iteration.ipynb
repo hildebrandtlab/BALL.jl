{
  "cells": [
    {
      "cell_type": "raw",
      "metadata": {},
      "source": [
        "---\n",
        "title: All on iteration\n",
        "format: ipynb\n",
        "---"
      ],
      "id": "751613a4"
    },
    {
      "cell_type": "markdown",
      "metadata": {},
      "source": [
        "When working with molecular entities, we want to run over all atoms of a system, over all chains, ... in this tutorial we will learn how this can be done."
      ],
      "id": "ebf48428"
    },
    {
      "cell_type": "code",
      "metadata": {},
      "source": [
        "using BiochemicalAlgorithms"
      ],
      "id": "93e217f7",
      "execution_count": null,
      "outputs": []
    },
    {
      "cell_type": "markdown",
      "metadata": {},
      "source": [
        ":::{cell .markdown}\n",
        "# Molecular systems\n",
        "In  `BiochemicalAlgorithms.jl` atoms and bonds are existing inside a `System`. Typically, molecular data is stored in molecular data formats such as PDB. The latter can be directly read into a system.  \n"
      ],
      "id": "59ab42e9"
    },
    {
      "cell_type": "code",
      "metadata": {},
      "source": [
        "s = load_pdb(ball_data_path(\"../test/data/AlaAla.pdb\"))\n",
        "natoms(s)"
      ],
      "id": "3e6c2185",
      "execution_count": null,
      "outputs": []
    },
    {
      "cell_type": "markdown",
      "metadata": {},
      "source": [
        "# How can I iterate over all atoms of a system? \n",
        "We can easily iterate over *all atoms* of this *system*. "
      ],
      "id": "39e58a96"
    },
    {
      "cell_type": "code",
      "metadata": {},
      "source": [
        "for a in atoms(s)\n",
        "    print(a.name)\n",
        "end"
      ],
      "id": "e4e8e76d",
      "execution_count": null,
      "outputs": []
    },
    {
      "cell_type": "code",
      "metadata": {},
      "source": [
        "# we can actually write\n",
        "print.(a.name for a in atoms(s))"
      ],
      "id": "c6222b9d",
      "execution_count": null,
      "outputs": []
    },
    {
      "cell_type": "markdown",
      "metadata": {},
      "source": [
        "# How can I iterate over specific atoms?\n",
        "In many scenarios, we only want to iterate over a subset of atoms fulfilling a specific criteria. For example, we only want to get the positions of the $C\\alpha$-atoms or we only want the heavy atoms:\n",
        ":::\n"
      ],
      "id": "0dc9e862"
    },
    {
      "cell_type": "code",
      "metadata": {},
      "source": [
        "println.(a.r for a in atoms(s) if a.name == \"CA\")"
      ],
      "id": "b2b9cc97",
      "execution_count": null,
      "outputs": []
    },
    {
      "cell_type": "code",
      "metadata": {},
      "source": [
        "heavy_atoms = filter(atom -> atom.element != Elements.H, atoms(s))\n",
        "# natoms(s)\n",
        "length(heavy_atoms)\n",
        "heavy_atoms"
      ],
      "id": "5764a2ba",
      "execution_count": null,
      "outputs": []
    },
    {
      "cell_type": "markdown",
      "metadata": {},
      "source": [
        "The filtering process gives us an `AtomTable`:\n"
      ],
      "id": "d807e166"
    },
    {
      "cell_type": "code",
      "metadata": {},
      "source": [
        "typeof(s)\n",
        "typeof(atoms(s))\n",
        "typeof(heavy_atoms)"
      ],
      "id": "9ea8899a",
      "execution_count": null,
      "outputs": []
    },
    {
      "cell_type": "markdown",
      "metadata": {},
      "source": [
        "# How can I iterate over all atoms of a molecule?\n",
        "Sometimes it is preferably to iterate over a molecule (e.g., in docking scenarios where you only want to iterate over receptor atoms). "
      ],
      "id": "d3a800ae"
    },
    {
      "cell_type": "code",
      "metadata": {},
      "source": [
        "# generate a molecule\n",
        "mol = load_pdb(ball_data_path(\"../test/data/AlaAla.pdb\"))\n",
        "println.(a.name for a in atoms(mol))"
      ],
      "id": "adceddb1",
      "execution_count": null,
      "outputs": []
    },
    {
      "cell_type": "markdown",
      "metadata": {},
      "source": [
        "# How can I iterate over all atoms of a residue?"
      ],
      "id": "14c345b8"
    },
    {
      "cell_type": "code",
      "metadata": {},
      "source": [
        "residue = residue_by_idx(s,1)\n",
        "println.(a.element for a in atoms(res) )"
      ],
      "id": "dae2c272",
      "execution_count": null,
      "outputs": []
    },
    {
      "cell_type": "markdown",
      "metadata": {},
      "source": [
        "# How can I iterate over all bonds of a system?\n",
        "Bonds are not explicitely stored in the pdb-Format but are rather inferred after reading the data into a system using the FragmentDataBase:"
      ],
      "id": "bbbc15d4"
    },
    {
      "cell_type": "code",
      "metadata": {},
      "source": [
        "# bonds are not contained in the pdb\n",
        "nbonds(s)\n",
        "\n",
        "# use the fragment data base for normalizing naming schemas between molecular file formats, reconstruction of missing parts of the structure and building the bonds\n",
        "fdb = FragmentDB()\n",
        "\n",
        "normalize_names!(s, fdb)\n",
        "reconstruct_fragments!(s, fdb)\n",
        "build_bonds!(s, fdb)\n",
        "nbonds(s)"
      ],
      "id": "d4fbde8b",
      "execution_count": null,
      "outputs": []
    },
    {
      "cell_type": "markdown",
      "metadata": {},
      "source": [
        "Similar to the atom iteration, we can iterate over all bonds of a sysem:"
      ],
      "id": "beb94ead"
    },
    {
      "cell_type": "code",
      "metadata": {},
      "source": [
        "print.(b.order for b in bonds(s))"
      ],
      "id": "7e5f61d5",
      "execution_count": null,
      "outputs": []
    },
    {
      "cell_type": "markdown",
      "metadata": {},
      "source": [
        "# How can I iterate over all bonds of an atom?\n",
        "Or only iterate over the bonds of a specific atom:\n"
      ],
      "id": "dfc515b3"
    },
    {
      "cell_type": "code",
      "metadata": {},
      "source": [
        "atom = atom_by_idx(s, 166) \n",
        "bds = filter(bond -> bond.a1 == atom.idx || bond.a2 == atom.idx, bonds(s))\n",
        "println.(b for b in bds)"
      ],
      "id": "89685fb2",
      "execution_count": null,
      "outputs": []
    },
    {
      "cell_type": "markdown",
      "metadata": {},
      "source": [
        "# How can I iterate over all chains of a system?\n",
        "We can get the name and the number of atoms per chain by the following"
      ],
      "id": "fa84f1e6"
    },
    {
      "cell_type": "code",
      "metadata": {},
      "source": [
        "println.((chain.name, length(atoms(chain))) for chain in chains(s))"
      ],
      "id": "4978b4ea",
      "execution_count": null,
      "outputs": []
    },
    {
      "cell_type": "markdown",
      "metadata": {},
      "source": [
        "# How can I iterate over all chains of a molecule?"
      ],
      "id": "f8386bcf"
    },
    {
      "cell_type": "code",
      "metadata": {},
      "source": [
        "println.((chain.name, length(atoms(chain))) for chain in chains(mol))"
      ],
      "id": "8ee989fc",
      "execution_count": null,
      "outputs": []
    },
    {
      "cell_type": "markdown",
      "metadata": {},
      "source": [
        "# How can I iterate over all residues of a system?"
      ],
      "id": "7d5f9a8a"
    },
    {
      "cell_type": "code",
      "metadata": {},
      "source": [
        "println.(res.type for res in residues(s))\n",
        "\n",
        "println.(res.chain_idx for res in fragments(s))"
      ],
      "id": "365a6041",
      "execution_count": null,
      "outputs": []
    },
    {
      "cell_type": "markdown",
      "metadata": {},
      "source": [
        "# How can I iterate over all residues of a chain?"
      ],
      "id": "d22ce7c4"
    },
    {
      "cell_type": "code",
      "metadata": {},
      "source": [
        "println.(res.type for res in residues(chain_by_idx(s,2)))"
      ],
      "id": "0f7a3ebb",
      "execution_count": null,
      "outputs": []
    }
  ],
  "metadata": {
    "kernelspec": {
      "name": "julia-1.10",
      "language": "julia",
      "display_name": "Julia 1.10.3"
    }
  },
  "nbformat": 4,
  "nbformat_minor": 5
}